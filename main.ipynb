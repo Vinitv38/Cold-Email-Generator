{
 "cells": [
  {
   "cell_type": "code",
   "execution_count": 2,
   "metadata": {},
   "outputs": [],
   "source": [
    "from dotenv import load_dotenv\n",
    "import os\n",
    "\n",
    "load_dotenv()\n",
    "API_KEY = os.getenv('GROQ_API_KEY')"
   ]
  },
  {
   "cell_type": "code",
   "execution_count": 3,
   "metadata": {},
   "outputs": [
    {
     "name": "stdout",
     "output_type": "stream",
     "text": [
      "The first person to land on the moon was Neil Armstrong. He stepped onto the lunar surface on July 20, 1969, as part of the Apollo 11 mission.\n"
     ]
    }
   ],
   "source": [
    "from langchain_groq import ChatGroq\n",
    "\n",
    "llm = ChatGroq(\n",
    "    temperature=0,\n",
    "    groq_api_key=API_KEY,\n",
    "    model_name=\"llama-3.1-70b-versatile\"\n",
    "\n",
    ")\n",
    "\n",
    "response = llm.invoke('The first person to land on moon was ...')\n",
    "print(response.content)"
   ]
  },
  {
   "cell_type": "code",
   "execution_count": 4,
   "metadata": {},
   "outputs": [
    {
     "name": "stderr",
     "output_type": "stream",
     "text": [
      "USER_AGENT environment variable not set, consider setting it to identify your requests.\n"
     ]
    },
    {
     "name": "stdout",
     "output_type": "stream",
     "text": [
      "\n",
      "\n",
      "\n",
      "\n",
      "\n",
      "\n",
      "\n",
      "\n",
      "\n",
      "\n",
      "\n",
      "\n",
      "\n",
      "\n",
      "\n",
      "\n",
      "\n",
      "\n",
      "\n",
      "\n",
      "\n",
      "\n",
      "\n"
     ]
    }
   ],
   "source": [
    "from langchain_community.document_loaders import WebBaseLoader\n",
    "\n",
    "loader = WebBaseLoader(\"https://compass.wd5.myworkdayjobs.com/radian_external_career_site/job/Philadelphia-PA/XMLNAME-2025-Software-Engineering-GenAI-Summer-Intern---100--Remote-in-US-only-_R20240260\")\n",
    "page_data = loader.load().pop().page_content\n",
    "print(page_data)"
   ]
  },
  {
   "cell_type": "code",
   "execution_count": 7,
   "metadata": {},
   "outputs": [],
   "source": [
    "page_data='''See yourself at Radian? We see you here too. At Radian, we see you. For the person you are and the potential you hold. That’s why we’ve embraced a new way of working that lets our people across the country be themselves, be their best and be their boldest. Because when each of us is truly seen, each of us gives our best – and at Radian, we’ll give you our best right back. Studies have shown that job seekers may hesitate to apply for jobs unless they meet every single qualification listed. We strive to see the potential in each applicant, so if you’re excited about this role but your experience or education level doesn’t align perfectly with every qualification in the job description, we encourage you to apply anyway. You may be just the right candidate for this or other roles. This is a Summer 2025 Internship – Must be available Tuesday, May 27 - Friday, August 1, 2025 See Yourself as a Software Engineering GenAI Intern We are currently seeking a talented and driven Software Engineering Intern to join our genAI team. As an intern with genAI, you will work closely with our experienced software engineers to develop and maintain software products, learn about the latest technologies and industry trends, and gain valuable experience in a fast-paced and dynamic work environment. This is a great opportunity to kick-start your career in software engineering and work on cutting-edge projects that make a difference in the world. See the Primary Duties and Responsibilities Collaborate to design, develop, and maintain software products using JavaScript or TypeScript or Python or Java or C# Participate in agile development methodologies such as Scrum Write clean, efficient, and well-documented code Learn about the latest technologies and industry trends in software engineering Conduct code reviews and provide feedback to team members Assist in testing and debugging software products Create and maintain technical documentation Continuously improve coding skills and knowledge of software engineering practices See the Job Specifications Basic Education and Prior Work-Related Experience: Required: currently pursuing an undergraduate or graduate degree with a concentration in Computer Science, Information Systems, Software Engineering, or related discipline. Additional Qualifications Demonstrated working knowledge of at least 1 of the following: Tensorflow, PyTorch, OpenAI, Anthropic, Perplexity, and Gemini. Experience in Artificial Intelligence or Machine Learning courses. Cloud Platform Experience: AWS, GCP, Azure Basic understanding of relational data models. Basic understanding of HTML, CSS, and core JavaScript concepts. Basic understanding of software development methodologies and agile practices Excellent analytical and problem-solving skills Strong communication skills to collaborate with team members Understanding of version control using Git Ability to learn quickly and adapt to new technologies and tools. Program Requirements Interns will be required to participate in specific workshops and events in addition to their intern duties assigned by their people leader. This includes a 2-day in-person event held at the end of July 2025 at our Wayne, PA headquarters. See Your Location Radian is committed to a flexible work environment for many of our roles. This is a *Work From Anywhere* role meaning you have the flexibility to work from home (or another designated workspace that fits your needs). This role provides additional flexibility should you want to work on-site at a Radian office. Explore our office locations here and let your Talent Acquisition Partner know you would be interested in working on-site. *Work From Anywhere is subject to Radian’s Alternative Work Policy and business needs. See Why You Should Work With Us Competitive Compensation: anticipated hourly rate from $20.00 to $26.00 based on skills and experience. Our Company Makes an Impact. We’ve been recognized by multiple organizations like Bloomberg’s Gender-Equality Index, HousingWire’s Tech 100, and The Forum of Executive Women’s Champion of Board Diversity. Radian has also pledged to PwC’s CEO Action for Diversity &amp; Inclusion commitment. The application period for the job is estimated to be 20 days from the job posting date. However, this timeline may be shortened or extended depending on business needs and the availability of qualified candidates. Radian will consider for employment qualified applicants with arrest or conviction records in a manner consistent with the requirements of the law, including any applicable fair chance law. See More About Radian Radian is a fintech servicing the mortgage and real estate services industry. As a team, we pride ourselves on seeing the potential of every person, every idea and every day. Seeing each other at Radian goes far beyond our open, flexible culture. It means seeing our people’s potential – and creating inspiring career paths that help them get there. Or seeing new pathways and innovating for the future of our industry. It means seeing each other for all that we are. And it means seeing our purpose as one that extends beyond the bottom line – having an impact on communities across the country to help more people achieve the American Dream of homeownership. We hope you’ll see yourself at Radian. See more about us at Radian.com. Defining Roles for Radian\\'s Future Understanding the qualities and characteristics that define a Leader and an Employee is important to building our future-fit workforce. Radian\\'s future is only as bright as its people. For that reason, our People Plan includes profiles to support the qualities and characteristics that each Leader as well as each Employee should embody upon hire or via development. EEO Statement Radian complies with all applicable federal, state, and local laws prohibiting discrimination in employment. All qualified applicants will receive consideration for employment without regard to gender, age, race, color, religious creed, marital status, gender identity, sexual orientation, national origin, ethnicity, ancestry, citizenship, genetic information, disability, protected veteran status or any other characteristic protected by applicable federal, state, or local law. Equal Opportunity Employer Details To learn more about Radian’s Code of Conduct and Ethics and workplace conduct, please click [here]. Radian participates in E-Verify [Link] (en español [Link]). Learn more about your rights under immigration laws [Link] (en español [Link]). View the \"Know Your Rights: Workplace Discrimination is Illegal\" poster [Link]. View “Employee Rights under FMLA” [Link]. View “Employee Rights under EPPA\" [Link]. View Pay Transparency Nondiscrimination Provision [Link]. Accommodation Whether you require an accommodation for the job application or interview process, Radian is dedicated to a barrier-free employment process and encourages a diverse workforce. If you have questions about the accommodation process, please e-mail careers@radian.com. Please note that you may redact or remove age-related information that identifies your age, date of birth, or dates of attendance at or graduation from an educational institution on any additional application materials you submit as part of the application. Additional application materials include but are not limited to, resumes, CVs, transcripts, or certifications. Radian is helping to ensure the American dream of homeownership in even bigger and better ways with industry-leading mortgage insurance and a comprehensive suite of mortgage, risk, real estate, and title services. We are powered by technology, informed by data and driven to deliver new levels of service and innovation to our customers across the residential mortgage and real estate spectrum.'''"
   ]
  },
  {
   "cell_type": "code",
   "execution_count": 8,
   "metadata": {},
   "outputs": [
    {
     "name": "stdout",
     "output_type": "stream",
     "text": [
      "<class 'dict'>\n",
      "{'role': 'Software Engineering GenAI Intern', 'experience': 'Currently pursuing an undergraduate or graduate degree with a concentration in Computer Science, Information Systems, Software Engineering, or related discipline.', 'skills': ['Tensorflow', 'PyTorch', 'OpenAI', 'Anthropic', 'Perplexity', 'Gemini', 'Artificial Intelligence', 'Machine Learning', 'AWS', 'GCP', 'Azure', 'Relational data models', 'HTML', 'CSS', 'JavaScript', 'Software development methodologies', 'Agile practices', 'Git'], 'description': 'Collaborate to design, develop, and maintain software products using JavaScript or TypeScript or Python or Java or C#. Participate in agile development methodologies such as Scrum. Write clean, efficient, and well-documented code. Learn about the latest technologies and industry trends in software engineering. Conduct code reviews and provide feedback to team members. Assist in testing and debugging software products. Create and maintain technical documentation. Continuously improve coding skills and knowledge of software engineering practices.'}\n"
     ]
    }
   ],
   "source": [
    "from langchain_core.prompts import PromptTemplate\n",
    "from langchain_core.output_parsers import JsonOutputParser\n",
    "import json\n",
    "\n",
    "prompt_extract = PromptTemplate.from_template(\n",
    "    \"\"\"\n",
    "    ### SCRAPPED TEST FROM WEBSITE:\n",
    "    {page_data}\n",
    "    ### INSTRUCTION \n",
    "    The scrapped text is from the career's page of a website.\n",
    "    Yor job is to extract the job postings and return them in JSON fromat containing following keys: `role`, `expereience`, `skills`, and `description`.\n",
    "    Only return the purely valid JSON.\n",
    "    ### VALID JSON (NO PREAMBLE):\"\"\"\n",
    "\n",
    ")\n",
    "\n",
    "chain_extract = prompt_extract | llm | JsonOutputParser()\n",
    "res = chain_extract.invoke(input={'page_data':page_data})\n",
    "print(type(res))\n",
    "print(res)\n",
    "# res = json.dumps(res, indent=4)\n",
    "# print(type(res))"
   ]
  },
  {
   "cell_type": "code",
   "execution_count": 7,
   "metadata": {},
   "outputs": [
    {
     "name": "stdout",
     "output_type": "stream",
     "text": [
      "CSV file 'portfolio.csv' created successfully.\n"
     ]
    }
   ],
   "source": [
    "import csv\n",
    "\n",
    "# Data to write to the CSV\n",
    "data = [\n",
    "    [\"Techstack\", \"Links\"],\n",
    "    [\"Python, Flask, Django\", \"https://vinit-lathiwala.vercel.app/\"],\n",
    "    [\"Machine Learning, Python, TensorFlow\", \"https://github.com/Vinitv38/Covid-19-detection-using-Deep-Learning\"],\n",
    "    [\"AI Chatbot, Flask, FastAPI\", \"https://github.com/Vinitv38/Food-ChatBot\"],\n",
    "    [\"Frontend, HTML5, CSS3, JavaScript\", None],\n",
    "    [\"Backend, Python, Django, Flask\", None],\n",
    "    [\"DevOps, AWS (Lambda, S3), Docker\", None],\n",
    "    [\"Stock Analysis, Yahoo Finance API, AI\", \"https://github.com/Vinitv38/StockBot-Advisor\"],\n",
    "    [\"GitHub Profile\", \"https://github.com/Vinitv38\"],\n",
    "    [\"LinkedIn Profile\", \"http://www.linkedin.com/in/vinit-lathiwala/\"],\n",
    "    [\"Portfolio\", \"https://vinit-lathiwala.vercel.app/\"]\n",
    "]\n",
    "\n",
    "# Write to a CSV file\n",
    "csv_file = \"portfolio.csv\"\n",
    "with open(csv_file, mode=\"w\", newline=\"\") as file:\n",
    "    writer = csv.writer(file)\n",
    "    writer.writerows(data)\n",
    "\n",
    "print(f\"CSV file '{csv_file}' created successfully.\")\n"
   ]
  },
  {
   "cell_type": "code",
   "execution_count": 11,
   "metadata": {},
   "outputs": [
    {
     "data": {
      "text/html": [
       "<div>\n",
       "<style scoped>\n",
       "    .dataframe tbody tr th:only-of-type {\n",
       "        vertical-align: middle;\n",
       "    }\n",
       "\n",
       "    .dataframe tbody tr th {\n",
       "        vertical-align: top;\n",
       "    }\n",
       "\n",
       "    .dataframe thead th {\n",
       "        text-align: right;\n",
       "    }\n",
       "</style>\n",
       "<table border=\"1\" class=\"dataframe\">\n",
       "  <thead>\n",
       "    <tr style=\"text-align: right;\">\n",
       "      <th></th>\n",
       "      <th>Techstack</th>\n",
       "      <th>Links</th>\n",
       "    </tr>\n",
       "  </thead>\n",
       "  <tbody>\n",
       "    <tr>\n",
       "      <th>0</th>\n",
       "      <td>Python, Flask, Django</td>\n",
       "      <td>https://vinit-lathiwala.vercel.app/</td>\n",
       "    </tr>\n",
       "    <tr>\n",
       "      <th>1</th>\n",
       "      <td>Machine Learning, Python, TensorFlow</td>\n",
       "      <td>https://github.com/Vinitv38/Covid-19-detection...</td>\n",
       "    </tr>\n",
       "    <tr>\n",
       "      <th>2</th>\n",
       "      <td>AI Chatbot, Flask, FastAPI</td>\n",
       "      <td>https://github.com/Vinitv38/Food-ChatBot</td>\n",
       "    </tr>\n",
       "    <tr>\n",
       "      <th>3</th>\n",
       "      <td>Frontend, HTML5, CSS3, JavaScript</td>\n",
       "      <td>NaN</td>\n",
       "    </tr>\n",
       "    <tr>\n",
       "      <th>4</th>\n",
       "      <td>Backend, Python, Django, Flask</td>\n",
       "      <td>NaN</td>\n",
       "    </tr>\n",
       "  </tbody>\n",
       "</table>\n",
       "</div>"
      ],
      "text/plain": [
       "                              Techstack  \\\n",
       "0                 Python, Flask, Django   \n",
       "1  Machine Learning, Python, TensorFlow   \n",
       "2            AI Chatbot, Flask, FastAPI   \n",
       "3     Frontend, HTML5, CSS3, JavaScript   \n",
       "4        Backend, Python, Django, Flask   \n",
       "\n",
       "                                               Links  \n",
       "0                https://vinit-lathiwala.vercel.app/  \n",
       "1  https://github.com/Vinitv38/Covid-19-detection...  \n",
       "2           https://github.com/Vinitv38/Food-ChatBot  \n",
       "3                                                NaN  \n",
       "4                                                NaN  "
      ]
     },
     "execution_count": 11,
     "metadata": {},
     "output_type": "execute_result"
    }
   ],
   "source": [
    "import pandas as pd\n",
    "df = pd.read_csv('portfolio.csv')\n",
    "df.head()"
   ]
  },
  {
   "cell_type": "code",
   "execution_count": 12,
   "metadata": {},
   "outputs": [],
   "source": [
    "import chromadb\n",
    "import uuid\n",
    "\n",
    "client = chromadb.PersistentClient('abcd')\n",
    "collection = client.get_or_create_collection(name='portfolio')\n",
    "\n",
    "if not collection.count():\n",
    "    for _, row in df.iterrows():\n",
    "        collection.add(documents=row[\"Techstack\"],\n",
    "                       metadatas={\"links\": row[\"Links\"]},\n",
    "                       ids = [str(uuid.uuid4())])"
   ]
  },
  {
   "cell_type": "code",
   "execution_count": 67,
   "metadata": {},
   "outputs": [],
   "source": [
    "client.delete_collection('portfolio')"
   ]
  },
  {
   "cell_type": "code",
   "execution_count": 10,
   "metadata": {},
   "outputs": [
    {
     "data": {
      "text/plain": [
       "{'ids': ['c77b4dd2-54d5-4afd-9169-c902eeaf026f',\n",
       "  '205cf297-b32b-4a1c-bd57-56ced1a107a3',\n",
       "  '7243f8b0-8edd-4bd0-8f30-966dabb3311e',\n",
       "  '135813f8-e57e-4e43-b468-4e95c34f5734',\n",
       "  '45a3a245-9cc3-49a7-9952-b1725d1b0af7',\n",
       "  '95aafc51-9fb0-4a1a-b60d-d259f0983f33',\n",
       "  '52e129b9-acb4-4b3c-937c-9d4a8ddf6e18',\n",
       "  '5fe80527-38d2-4aef-beb3-81e30a6c6858',\n",
       "  '086f0bb3-22a0-4a35-8f05-9133f48ac313',\n",
       "  'b247f029-4b1d-4f5a-b63b-d28a43b98488'],\n",
       " 'embeddings': None,\n",
       " 'documents': ['Python, Flask, Django',\n",
       "  'Machine Learning, Python, TensorFlow',\n",
       "  'AI Chatbot, Flask, FastAPI',\n",
       "  'Frontend, HTML5, CSS3, JavaScript',\n",
       "  'Backend, Python, Django, Flask',\n",
       "  'DevOps, AWS (Lambda, S3), Docker',\n",
       "  'Stock Analysis, Yahoo Finance API, AI',\n",
       "  'GitHub Profile',\n",
       "  'LinkedIn Profile',\n",
       "  'Portfolio'],\n",
       " 'uris': None,\n",
       " 'data': None,\n",
       " 'metadatas': [{'links': 'https://vinit-lathiwala.vercel.app/'},\n",
       "  {'links': 'https://github.com/Vinitv38/Covid-19-detection-using-Deep-Learning'},\n",
       "  {'links': 'https://github.com/Vinitv38/Food-ChatBot'},\n",
       "  None,\n",
       "  None,\n",
       "  None,\n",
       "  {'links': 'https://github.com/Vinitv38/StockBot-Advisor'},\n",
       "  {'links': 'https://github.com/Vinitv38'},\n",
       "  {'links': 'http://www.linkedin.com/in/vinit-lathiwala/'},\n",
       "  {'links': 'https://vinit-lathiwala.vercel.app/'}],\n",
       " 'included': [<IncludeEnum.documents: 'documents'>,\n",
       "  <IncludeEnum.metadatas: 'metadatas'>]}"
      ]
     },
     "execution_count": 10,
     "metadata": {},
     "output_type": "execute_result"
    }
   ],
   "source": [
    "collection.get()"
   ]
  },
  {
   "cell_type": "code",
   "execution_count": 13,
   "metadata": {},
   "outputs": [
    {
     "name": "stdout",
     "output_type": "stream",
     "text": [
      "{'role': 'Software Engineering GenAI Intern', 'experience': 'Currently pursuing an undergraduate or graduate degree with a concentration in Computer Science, Information Systems, Software Engineering, or related discipline.', 'skills': ['Tensorflow', 'PyTorch', 'OpenAI', 'Anthropic', 'Perplexity', 'Gemini', 'Artificial Intelligence', 'Machine Learning', 'AWS', 'GCP', 'Azure', 'Relational data models', 'HTML', 'CSS', 'JavaScript', 'Software development methodologies', 'Agile practices', 'Git'], 'description': 'Collaborate to design, develop, and maintain software products using JavaScript or TypeScript or Python or Java or C#. Participate in agile development methodologies such as Scrum. Write clean, efficient, and well-documented code. Learn about the latest technologies and industry trends in software engineering. Conduct code reviews and provide feedback to team members. Assist in testing and debugging software products. Create and maintain technical documentation. Continuously improve coding skills and knowledge of software engineering practices.'}\n"
     ]
    },
    {
     "data": {
      "text/plain": [
       "['Tensorflow',\n",
       " 'PyTorch',\n",
       " 'OpenAI',\n",
       " 'Anthropic',\n",
       " 'Perplexity',\n",
       " 'Gemini',\n",
       " 'Artificial Intelligence',\n",
       " 'Machine Learning',\n",
       " 'AWS',\n",
       " 'GCP',\n",
       " 'Azure',\n",
       " 'Relational data models',\n",
       " 'HTML',\n",
       " 'CSS',\n",
       " 'JavaScript',\n",
       " 'Software development methodologies',\n",
       " 'Agile practices',\n",
       " 'Git']"
      ]
     },
     "execution_count": 13,
     "metadata": {},
     "output_type": "execute_result"
    }
   ],
   "source": [
    "job=res\n",
    "print(job)\n",
    "res['skills']"
   ]
  },
  {
   "cell_type": "code",
   "execution_count": 15,
   "metadata": {},
   "outputs": [
    {
     "data": {
      "text/plain": [
       "[[{'links': 'https://github.com/Vinitv38/Covid-19-detection-using-Deep-Learning'},\n",
       "  {'links': 'https://github.com/Vinitv38/Food-ChatBot'}],\n",
       " [{'links': 'https://github.com/Vinitv38/Covid-19-detection-using-Deep-Learning'},\n",
       "  {'links': 'https://github.com/Vinitv38/Food-ChatBot'}],\n",
       " [{'links': 'https://github.com/Vinitv38/Food-ChatBot'},\n",
       "  {'links': 'https://github.com/Vinitv38/Covid-19-detection-using-Deep-Learning'}],\n",
       " [{'links': 'http://www.linkedin.com/in/vinit-lathiwala/'},\n",
       "  {'links': 'https://github.com/Vinitv38/Food-ChatBot'}],\n",
       " [{'links': 'https://vinit-lathiwala.vercel.app/'},\n",
       "  {'links': 'https://github.com/Vinitv38/Covid-19-detection-using-Deep-Learning'}],\n",
       " [{'links': 'https://vinit-lathiwala.vercel.app/'},\n",
       "  {'links': 'http://www.linkedin.com/in/vinit-lathiwala/'}],\n",
       " [{'links': 'https://github.com/Vinitv38/Covid-19-detection-using-Deep-Learning'},\n",
       "  {'links': 'https://github.com/Vinitv38/Food-ChatBot'}],\n",
       " [{'links': 'https://github.com/Vinitv38/Covid-19-detection-using-Deep-Learning'},\n",
       "  {'links': 'https://github.com/Vinitv38/StockBot-Advisor'}],\n",
       " [None, None],\n",
       " [{'links': 'https://vinit-lathiwala.vercel.app/'}, None],\n",
       " [None, {'links': 'https://vinit-lathiwala.vercel.app/'}],\n",
       " [{'links': 'https://github.com/Vinitv38/Covid-19-detection-using-Deep-Learning'},\n",
       "  {'links': 'https://github.com/Vinitv38/StockBot-Advisor'}],\n",
       " [None, {'links': 'https://vinit-lathiwala.vercel.app/'}],\n",
       " [None, {'links': 'https://vinit-lathiwala.vercel.app/'}],\n",
       " [None, {'links': 'https://vinit-lathiwala.vercel.app/'}],\n",
       " [None, {'links': 'https://github.com/Vinitv38'}],\n",
       " [None, {'links': 'https://vinit-lathiwala.vercel.app/'}],\n",
       " [{'links': 'https://github.com/Vinitv38'}, None]]"
      ]
     },
     "execution_count": 15,
     "metadata": {},
     "output_type": "execute_result"
    }
   ],
   "source": [
    "links = collection.query(query_texts=res['skills'],n_results=2).get('metadatas')\n",
    "links"
   ]
  },
  {
   "cell_type": "code",
   "execution_count": 16,
   "metadata": {},
   "outputs": [
    {
     "name": "stdout",
     "output_type": "stream",
     "text": [
      "Subject: Application for Software Engineering GenAI Intern Role\n",
      "\n",
      "Dear Hiring Manager,\n",
      "\n",
      "I am excited to apply for the Software Engineering GenAI Intern position at your esteemed organization. As a final-year student pursuing B.Tech in Computer Science with AI-ML, I am confident that my skills and experience align with the requirements of the role.\n",
      "\n",
      "With a strong foundation in machine learning and artificial intelligence, I have developed expertise in building and fine-tuning machine learning models, particularly in natural language processing (NLP) and computer vision. My proficiency in Python, TensorFlow, scikit-learn, Flask, and frontend technologies like HTML, CSS, and JavaScript makes me a strong candidate for this position.\n",
      "\n",
      "I am impressed by the organization's focus on software engineering and AI, and I am excited about the opportunity to contribute to the design, development, and maintenance of software products using JavaScript, TypeScript, Python, Java, or C#. My experience with agile development methodologies, such as Scrum, and my ability to write clean, efficient, and well-documented code make me a great fit for this role.\n",
      "\n",
      "I would like to highlight a few projects from my portfolio that demonstrate my skills and expertise:\n",
      "\n",
      "* Covid-19 detection using Deep Learning: This project involves building a deep learning model to detect Covid-19 from chest X-ray images. (https://github.com/Vinitv38/Covid-19-detection-using-Deep-Learning)\n",
      "* Food ChatBot: This project involves building a chatbot that can understand and respond to user queries related to food. (https://github.com/Vinitv38/Food-ChatBot)\n",
      "* StockBot Advisor: This project involves building a chatbot that can provide stock market advice to users. (https://github.com/Vinitv38/StockBot-Advisor)\n",
      "\n",
      "I am confident that my skills, experience, and passion for AI and software engineering make me an ideal candidate for this role. I would be thrilled to discuss my application and how I can contribute to the organization's success.\n",
      "\n",
      "Please find my LinkedIn profile and personal website for more information:\n",
      "\n",
      "* LinkedIn: http://www.linkedin.com/in/vinit-lathiwala/\n",
      "* Personal Website: https://vinit-lathiwala.vercel.app/\n",
      "\n",
      "Thank you for considering my application. I look forward to the opportunity to discuss this further.\n",
      "\n",
      "Best regards,\n",
      "\n",
      "Vinit Lathiwala\n"
     ]
    }
   ],
   "source": [
    "prompt_email = PromptTemplate.from_template(\n",
    "    '''\n",
    "    ### JOB DESCRIPTION:\n",
    "    {job_description}\n",
    "\n",
    "    ### INSTRUCTION:\n",
    "    You are Vinit Lathiwala currently studying in Final year pusunig B.Tech in CSE with AI-ML.\n",
    "    You are an AI/ML developer with expertise in building and fine-tuning machine learning models. Your specialties include natural language processing (NLP), computer vision, and creating AI-powered solutions. You are skilled in Python, TensorFlow, scikit-learn, Flask, and frontend technologies like HTML, CSS, and JavaScript. You excel at solving complex problems, collaborating in teams, and integrating AI into practical applications\n",
    "    Your job is to write a cold email to the client regarding the job mentioned above mentioning ahat how you are gooin aligning with the skills they require\n",
    "    Also add  the most relevant ones from the follwing links to showcase the your portfolio: {link_list}.\n",
    "    Remember you are Vinit Lathiwala.\n",
    "    ### Email (NO PREAMBLE):\n",
    "'''\n",
    ")\n",
    "\n",
    "chain_email = prompt_email | llm \n",
    "res = chain_email.invoke({'job_description': str(job), \"link_list\":links})\n",
    "print(res.content)"
   ]
  },
  {
   "cell_type": "code",
   "execution_count": 50,
   "metadata": {},
   "outputs": [
    {
     "name": "stdout",
     "output_type": "stream",
     "text": [
      "[[{'links': 'https://github.com/Vinitv38/Covid-19-detection-using-Deep-Learning'}, None], [{'links': 'https://github.com/Vinitv38/Covid-19-detection-using-Deep-Learning'}, None], [None, {'links': 'https://github.com/Vinitv38'}], [{'links': 'https://github.com/Vinitv38/Covid-19-detection-using-Deep-Learning'}, {'links': 'https://github.com/Vinitv38/StockBot-Advisor'}], [None, {'links': 'https://github.com/Vinitv38'}], [None, None], [{'links': 'https://github.com/Vinitv38/StockBot-Advisor'}, {'links': 'https://github.com/Vinitv38/Covid-19-detection-using-Deep-Learning'}], [None, {'links': 'https://vinit-lathiwala.vercel.app/'}], [{'links': 'https://github.com/Vinitv38'}, {'links': 'http://www.linkedin.com/in/vinit-lathiwala/'}], [None, {'links': 'https://github.com/Vinitv38'}], [{'links': 'https://vinit-lathiwala.vercel.app/'}, {'links': 'https://github.com/Vinitv38/StockBot-Advisor'}], [{'links': 'https://github.com/Vinitv38/Covid-19-detection-using-Deep-Learning'}, {'links': 'https://vinit-lathiwala.vercel.app/'}], [{'links': 'https://github.com/Vinitv38/Covid-19-detection-using-Deep-Learning'}, {'links': 'https://vinit-lathiwala.vercel.app/'}], [None, None]]\n"
     ]
    }
   ],
   "source": [
    "print(links)"
   ]
  },
  {
   "cell_type": "code",
   "execution_count": 73,
   "metadata": {},
   "outputs": [
    {
     "ename": "ValueError",
     "evalue": "Resetting is not allowed by this configuration (to enable it, set `allow_reset` to `True` in your Settings() or include `ALLOW_RESET=TRUE` in your environment variables)",
     "output_type": "error",
     "traceback": [
      "\u001b[1;31m---------------------------------------------------------------------------\u001b[0m",
      "\u001b[1;31mValueError\u001b[0m                                Traceback (most recent call last)",
      "Cell \u001b[1;32mIn[73], line 1\u001b[0m\n\u001b[1;32m----> 1\u001b[0m \u001b[43mclient\u001b[49m\u001b[38;5;241;43m.\u001b[39;49m\u001b[43mreset\u001b[49m\u001b[43m(\u001b[49m\u001b[43m)\u001b[49m\n",
      "File \u001b[1;32mc:\\Users\\vinit\\anaconda3\\envs\\base_env\\Lib\\site-packages\\chromadb\\api\\client.py:386\u001b[0m, in \u001b[0;36mClient.reset\u001b[1;34m(self)\u001b[0m\n\u001b[0;32m    384\u001b[0m \u001b[38;5;129m@override\u001b[39m\n\u001b[0;32m    385\u001b[0m \u001b[38;5;28;01mdef\u001b[39;00m \u001b[38;5;21mreset\u001b[39m(\u001b[38;5;28mself\u001b[39m) \u001b[38;5;241m-\u001b[39m\u001b[38;5;241m>\u001b[39m \u001b[38;5;28mbool\u001b[39m:\n\u001b[1;32m--> 386\u001b[0m     \u001b[38;5;28;01mreturn\u001b[39;00m \u001b[38;5;28;43mself\u001b[39;49m\u001b[38;5;241;43m.\u001b[39;49m\u001b[43m_server\u001b[49m\u001b[38;5;241;43m.\u001b[39;49m\u001b[43mreset\u001b[49m\u001b[43m(\u001b[49m\u001b[43m)\u001b[49m\n",
      "File \u001b[1;32mc:\\Users\\vinit\\anaconda3\\envs\\base_env\\Lib\\site-packages\\chromadb\\api\\segment.py:840\u001b[0m, in \u001b[0;36mSegmentAPI.reset\u001b[1;34m(self)\u001b[0m\n\u001b[0;32m    838\u001b[0m \u001b[38;5;129m@override\u001b[39m\n\u001b[0;32m    839\u001b[0m \u001b[38;5;28;01mdef\u001b[39;00m \u001b[38;5;21mreset\u001b[39m(\u001b[38;5;28mself\u001b[39m) \u001b[38;5;241m-\u001b[39m\u001b[38;5;241m>\u001b[39m \u001b[38;5;28mbool\u001b[39m:\n\u001b[1;32m--> 840\u001b[0m     \u001b[38;5;28;43mself\u001b[39;49m\u001b[38;5;241;43m.\u001b[39;49m\u001b[43m_system\u001b[49m\u001b[38;5;241;43m.\u001b[39;49m\u001b[43mreset_state\u001b[49m\u001b[43m(\u001b[49m\u001b[43m)\u001b[49m\n\u001b[0;32m    841\u001b[0m     \u001b[38;5;28;01mreturn\u001b[39;00m \u001b[38;5;28;01mTrue\u001b[39;00m\n",
      "File \u001b[1;32mc:\\Users\\vinit\\anaconda3\\envs\\base_env\\Lib\\site-packages\\chromadb\\config.py:456\u001b[0m, in \u001b[0;36mSystem.reset_state\u001b[1;34m(self)\u001b[0m\n\u001b[0;32m    454\u001b[0m \u001b[38;5;250m\u001b[39m\u001b[38;5;124;03m\"\"\"Reset the state of this system and all constituents in reverse dependency order\"\"\"\u001b[39;00m\n\u001b[0;32m    455\u001b[0m \u001b[38;5;28;01mif\u001b[39;00m \u001b[38;5;129;01mnot\u001b[39;00m \u001b[38;5;28mself\u001b[39m\u001b[38;5;241m.\u001b[39msettings\u001b[38;5;241m.\u001b[39mallow_reset:\n\u001b[1;32m--> 456\u001b[0m     \u001b[38;5;28;01mraise\u001b[39;00m \u001b[38;5;167;01mValueError\u001b[39;00m(\n\u001b[0;32m    457\u001b[0m         \u001b[38;5;124m\"\u001b[39m\u001b[38;5;124mResetting is not allowed by this configuration (to enable it, set `allow_reset` to `True` in your Settings() or include `ALLOW_RESET=TRUE` in your environment variables)\u001b[39m\u001b[38;5;124m\"\u001b[39m\n\u001b[0;32m    458\u001b[0m     )\n\u001b[0;32m    459\u001b[0m \u001b[38;5;28;01mfor\u001b[39;00m component \u001b[38;5;129;01min\u001b[39;00m \u001b[38;5;28mreversed\u001b[39m(\u001b[38;5;28mlist\u001b[39m(\u001b[38;5;28mself\u001b[39m\u001b[38;5;241m.\u001b[39mcomponents())):\n\u001b[0;32m    460\u001b[0m     component\u001b[38;5;241m.\u001b[39mreset_state()\n",
      "\u001b[1;31mValueError\u001b[0m: Resetting is not allowed by this configuration (to enable it, set `allow_reset` to `True` in your Settings() or include `ALLOW_RESET=TRUE` in your environment variables)"
     ]
    }
   ],
   "source": [
    "client.reset()"
   ]
  },
  {
   "cell_type": "code",
   "execution_count": 74,
   "metadata": {},
   "outputs": [
    {
     "ename": "ModuleNotFoundError",
     "evalue": "No module named 'some_module'",
     "output_type": "error",
     "traceback": [
      "\u001b[1;31m---------------------------------------------------------------------------\u001b[0m",
      "\u001b[1;31mModuleNotFoundError\u001b[0m                       Traceback (most recent call last)",
      "Cell \u001b[1;32mIn[74], line 1\u001b[0m\n\u001b[1;32m----> 1\u001b[0m \u001b[38;5;28;01mfrom\u001b[39;00m \u001b[38;5;21;01msome_module\u001b[39;00m \u001b[38;5;28;01mimport\u001b[39;00m Settings\n\u001b[0;32m      3\u001b[0m \u001b[38;5;66;03m# Update your settings to allow resetting\u001b[39;00m\n\u001b[0;32m      4\u001b[0m settings \u001b[38;5;241m=\u001b[39m Settings(allow_reset\u001b[38;5;241m=\u001b[39m\u001b[38;5;28;01mTrue\u001b[39;00m)\n",
      "\u001b[1;31mModuleNotFoundError\u001b[0m: No module named 'some_module'"
     ]
    }
   ],
   "source": [
    "from some_module import Settings\n",
    "\n",
    "# Update your settings to allow resetting\n",
    "settings = Settings(allow_reset=True)\n",
    "\n",
    "# Now proceed with your reset operation\n"
   ]
  },
  {
   "cell_type": "code",
   "execution_count": 2,
   "metadata": {},
   "outputs": [
    {
     "name": "stdout",
     "output_type": "stream",
     "text": [
      "All collections have been deleted.\n"
     ]
    }
   ],
   "source": [
    "import chromadb\n",
    "\n",
    "# Initialize the Chroma client\n",
    "client = chromadb.Client()\n",
    "\n",
    "# List all collections\n",
    "collections = client.list_collections()\n",
    "\n",
    "# Loop through all collections and delete them\n",
    "for collection_name in collections:\n",
    "    client.delete_collection(collection_name)\n",
    "\n",
    "print(\"All collections have been deleted.\")\n"
   ]
  },
  {
   "cell_type": "code",
   "execution_count": null,
   "metadata": {},
   "outputs": [],
   "source": []
  },
  {
   "cell_type": "code",
   "execution_count": null,
   "metadata": {},
   "outputs": [],
   "source": []
  }
 ],
 "metadata": {
  "kernelspec": {
   "display_name": "base_env",
   "language": "python",
   "name": "python3"
  },
  "language_info": {
   "codemirror_mode": {
    "name": "ipython",
    "version": 3
   },
   "file_extension": ".py",
   "mimetype": "text/x-python",
   "name": "python",
   "nbconvert_exporter": "python",
   "pygments_lexer": "ipython3",
   "version": "3.12.4"
  }
 },
 "nbformat": 4,
 "nbformat_minor": 2
}
